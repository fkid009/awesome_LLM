{
 "cells": [
  {
   "cell_type": "code",
   "execution_count": 1,
   "metadata": {},
   "outputs": [],
   "source": [
    "import os \n",
    "import chromadb\n",
    "from openai import OpenAI"
   ]
  },
  {
   "cell_type": "code",
   "execution_count": null,
   "metadata": {},
   "outputs": [],
   "source": [
    "os.environ[\"OPENAI_API_KEY\"] = \"KEY\""
   ]
  },
  {
   "cell_type": "code",
   "execution_count": 3,
   "metadata": {},
   "outputs": [],
   "source": [
    "openai_client = OpenAI()\n",
    "chroma_client = chromadb.Client()"
   ]
  },
  {
   "cell_type": "code",
   "execution_count": 6,
   "metadata": {},
   "outputs": [
    {
     "name": "stdout",
     "output_type": "stream",
     "text": [
      "질문: 북태평양 기단과 오호츠크해 기단이 만나 국내에 머무르는 기간은?\n",
      "소요 시간: 1.39 \n",
      "답변: 북태평양 기단과 오호츠크해 기단이 만나 국내에 머무르는 기간은 주로 가을부터 겨울까지이며, 보통 10월부터 다음해 3월까지 기간 동안 영향을 미칩니다.\u001d\n",
      "\n",
      "질문: 북태평양 기단과 오호츠크해 기단이 만나 국내에 머무르는 기간은?\n",
      "소요 시간: 1.64 \n",
      "답변: 북태평양 기단과 오호츠크해 기단이 만나 국내에 머무르는 기간은 보통 봄과 가을에 발생하는데, 주로 3월부터 5월까지와 9월부터 11월까지 국내에 영향을 줍니다. 이 기간에는 갑자기 찬 바람이 불거나 기온이 급격히 떨어지는 현상이 나타날 수 있으니 주의해야 합니다.\n",
      "\n"
     ]
    }
   ],
   "source": [
    "import time\n",
    "\n",
    "def response_text(openai_resp):\n",
    "    return openai_resp.choices[0].message.content\n",
    "\n",
    "question = \"북태평양 기단과 오호츠크해 기단이 만나 국내에 머무르는 기간은?\"\n",
    "\n",
    "for _ in range(2):\n",
    "    start_time = time.time()\n",
    "    response = openai_client.chat.completions.create(\n",
    "        model=\"gpt-3.5-turbo\",\n",
    "        messages=[\n",
    "            {\n",
    "                \"role\": \"user\",\n",
    "                \"content\": question\n",
    "            }\n",
    "        ],\n",
    "    )\n",
    "    response = response_text(response)\n",
    "    print(f\"질문: {question}\") \n",
    "    print(f\"소요 시간: {(time.time() - start_time):.2f} \")\n",
    "    print(f\"답변: {response}\\n\")"
   ]
  },
  {
   "cell_type": "code",
   "execution_count": null,
   "metadata": {},
   "outputs": [],
   "source": [
    "class OpenAICache: # 일치 캐시\n",
    "    def __init__(self, openai_client):\n",
    "        self.openai_client = openai_client\n",
    "        self.cache = {}\n",
    "\n",
    "    def generate(self, prompt):\n",
    "        if prompt not in self.cache:\n",
    "            response = self.openai_client.chat.completions.create(\n",
    "                model = \"gpt-3.5-turbo\",\n",
    "                messages = [\n",
    "                    {\n",
    "                        \"role\": \"user\",\n",
    "                        \"content\": prompt\n",
    "                    }\n",
    "                ],\n",
    "            )\n",
    "            self.cache[prompt] = response_text(response)\n",
    "        return self.cache[prompt]\n",
    "\n",
    "        "
   ]
  },
  {
   "cell_type": "code",
   "execution_count": 11,
   "metadata": {},
   "outputs": [],
   "source": [
    "openai_cache = OpenAICache(openai_client)"
   ]
  },
  {
   "cell_type": "code",
   "execution_count": 12,
   "metadata": {},
   "outputs": [
    {
     "name": "stdout",
     "output_type": "stream",
     "text": [
      "질문: 북태평양 기단과 오호츠크해 기단이 만나 국내에 머무르는 기간은?\n",
      "소요 시간: 1.70 \n",
      "답변: 북태평양 기단과 오호츠크해 기단이 만나 국내에 머무르는 기간은 주로 겨울철인 11월부터 다음 해 3월까지입니다. 이 기간 동안 한반도 일부 지역에서는 한파와 강풍 등으로 추운 날씨가 이어질 수 있습니다.\n",
      "\n",
      "질문: 북태평양 기단과 오호츠크해 기단이 만나 국내에 머무르는 기간은?\n",
      "소요 시간: 0.00 \n",
      "답변: 북태평양 기단과 오호츠크해 기단이 만나 국내에 머무르는 기간은 주로 겨울철인 11월부터 다음 해 3월까지입니다. 이 기간 동안 한반도 일부 지역에서는 한파와 강풍 등으로 추운 날씨가 이어질 수 있습니다.\n",
      "\n"
     ]
    }
   ],
   "source": [
    "for _ in range(2):\n",
    "    start_time = time.time()\n",
    "    response = openai_cache.generate(question)\n",
    "    print(f\"질문: {question}\") \n",
    "    print(f\"소요 시간: {(time.time() - start_time):.2f} \")\n",
    "    print(f\"답변: {response}\\n\")"
   ]
  },
  {
   "cell_type": "code",
   "execution_count": 22,
   "metadata": {},
   "outputs": [],
   "source": [
    "class OpenAICache:\n",
    "    def __init__(self, openai_client, semantic_cache):\n",
    "        self.openai_client = openai_client\n",
    "        self.cache = {}\n",
    "        self.semantic_cache = semantic_cache\n",
    "\n",
    "    def generate(self, prompt):\n",
    "        if prompt not in self.cache:\n",
    "            similar_doc = self.semantic_cache.query(query_texts = [prompt], n_results = 1)\n",
    "            if len(similar_doc[\"distances\"][0]) > 0 and similar_doc[\"distances\"][0][0] < 0.2:\n",
    "                return similar_doc[\"metadatas\"][0][0][\"response\"]\n",
    "            else:\n",
    "                response = self.openai_client.chat.completions.create(\n",
    "                    model = \"gpt-3.5-turbo\",\n",
    "                    messages = [\n",
    "                        {\n",
    "                            \"role\": \"user\",\n",
    "                            \"content\": prompt\n",
    "                        }\n",
    "                    ],\n",
    "                )\n",
    "                self.cache[prompt] = response_text(response)\n",
    "                self.semantic_cache.add(documents = [prompt],\n",
    "                                        metadatas = [{\"response\": response_text(response)}], ids = [prompt])\n",
    "        return self.cache[prompt]"
   ]
  },
  {
   "cell_type": "code",
   "execution_count": null,
   "metadata": {},
   "outputs": [],
   "source": [
    "from chromadb.utils.embedding_functions import OpenAIEmbeddingFunction\n",
    "\n",
    "openai_ef = OpenAIEmbeddingFunction(\n",
    "    api_key = os.environ[\"OPENAI_API_KEY\"],\n",
    "    model_name = \"text-embedding-ada-002\"\n",
    ")\n",
    "\n",
    "semantic_cache = chroma_client.create_collection(name=\"semantic_cache\",\n",
    "                                                 embedding_function = openai_ef,\n",
    "                                                 metadata = {\"hnsw:space\": \"cosine\"})\n",
    "openai_cache = OpenAICache(openai_client, semantic_cache)"
   ]
  },
  {
   "cell_type": "code",
   "execution_count": 25,
   "metadata": {},
   "outputs": [
    {
     "name": "stdout",
     "output_type": "stream",
     "text": [
      "질문: 북태명양 기단과 오호츠크해 기단이 만나 국내에 머무르는 기간은?\n",
      "소요 시간: 2.64 \n",
      "답변: 북태명양 기단과 오호츠크해 기단이 만나 국내에 머무르는 기간은 겨울철인 12월부터 3월까지입니다. 이 기간 동안 새들은 대양을 건너 이동하는데 먹이를 찾기 위해 국내 해역에 머무르게 됩니다.\n",
      "\n",
      "질문: 북태명양 기단과 오호츠크해 기단이 만나 국내에 머무르느 기간은?\n",
      "소요 시간: 0.48 \n",
      "답변: 북태명양 기단과 오호츠크해 기단이 만나 국내에 머무르는 기간은 겨울철인 12월부터 3월까지입니다. 이 기간 동안 새들은 대양을 건너 이동하는데 먹이를 찾기 위해 국내 해역에 머무르게 됩니다.\n",
      "\n",
      "질문: 북태명양 기단과 오호츠크해 기단이 만나 한반도에 머무르는 기간은?\n",
      "소요 시간: 0.59 \n",
      "답변: 북태명양 기단과 오호츠크해 기단이 만나 국내에 머무르는 기간은 겨울철인 12월부터 3월까지입니다. 이 기간 동안 새들은 대양을 건너 이동하는데 먹이를 찾기 위해 국내 해역에 머무르게 됩니다.\n",
      "\n",
      "질문: 국내에 북태평양 기단과 오호츠크해 기단이 함께 머무르는 기간은?\n",
      "소요 시간: 0.58 \n",
      "답변: 북태명양 기단과 오호츠크해 기단이 만나 국내에 머무르는 기간은 겨울철인 12월부터 3월까지입니다. 이 기간 동안 새들은 대양을 건너 이동하는데 먹이를 찾기 위해 국내 해역에 머무르게 됩니다.\n",
      "\n"
     ]
    }
   ],
   "source": [
    "questions = [\"북태명양 기단과 오호츠크해 기단이 만나 국내에 머무르는 기간은?\",\n",
    "            \"북태명양 기단과 오호츠크해 기단이 만나 국내에 머무르느 기간은?\",\n",
    "            \"북태명양 기단과 오호츠크해 기단이 만나 한반도에 머무르는 기간은?\",\n",
    "            \"국내에 북태평양 기단과 오호츠크해 기단이 함께 머무르는 기간은?\"]\n",
    "\n",
    "for question in questions:\n",
    "    start_time = time.time()\n",
    "    response = openai_cache.generate(question)\n",
    "    print(f\"질문: {question}\") \n",
    "    print(f\"소요 시간: {(time.time() - start_time):.2f} \")\n",
    "    print(f\"답변: {response}\\n\")"
   ]
  },
  {
   "cell_type": "code",
   "execution_count": null,
   "metadata": {},
   "outputs": [],
   "source": []
  }
 ],
 "metadata": {
  "kernelspec": {
   "display_name": "LLM",
   "language": "python",
   "name": "python3"
  },
  "language_info": {
   "codemirror_mode": {
    "name": "ipython",
    "version": 3
   },
   "file_extension": ".py",
   "mimetype": "text/x-python",
   "name": "python",
   "nbconvert_exporter": "python",
   "pygments_lexer": "ipython3",
   "version": "3.9.20"
  }
 },
 "nbformat": 4,
 "nbformat_minor": 2
}
