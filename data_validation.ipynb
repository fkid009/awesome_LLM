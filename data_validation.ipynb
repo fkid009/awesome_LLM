{
 "cells": [
  {
   "cell_type": "code",
   "execution_count": null,
   "metadata": {},
   "outputs": [],
   "source": [
    "# 안정적으로 LLM을 활용하기 위해서는 사용자의 요청 둥 적절하지 않은 요청(예: 시스템 프롬프트 요청, 정치적 입장을 묻는 질문)에는 응답하지 않고 벡터 데이터베이스 내 검색 결과나 LLM의 생성 결과에 적절하지 않은 내용(예: 민감한 개인 정보)이 포함됐는지 확인하는 절차가 필요하다.\n"
   ]
  }
 ],
 "metadata": {
  "kernelspec": {
   "display_name": "LLM",
   "language": "python",
   "name": "python3"
  },
  "language_info": {
   "name": "python",
   "version": "3.9.20"
  }
 },
 "nbformat": 4,
 "nbformat_minor": 2
}
