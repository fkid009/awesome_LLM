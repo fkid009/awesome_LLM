{
 "cells": [
  {
   "cell_type": "code",
   "execution_count": 11,
   "metadata": {},
   "outputs": [],
   "source": [
    "# 안정적으로 LLM을 활용하기 위해서는 사용자의 요청 둥 적절하지 않은 요청(예: 시스템 프롬프트 요청, 정치적 입장을 묻는 질문)에는 응답하지 않고 벡터 데이터베이스 내 검색 결과나 LLM의 생성 결과에 적절하지 않은 내용(예: 민감한 개인 정보)이 포함됐는지 확인하는 절차가 필요하다.\n",
    "# 벡터 데이터베이스에서 검색한 데이터나 LLM이 생성한 데이터에는 개인 정보나 서비스에 부적절한 데이터가 섞여 있을 수 있다.\n",
    "# 특히, LLM이 생성한 데이터의 경우 필요한 형힉에 맞는지(예:JSON), 회사의 정책이나 가이드라인과 충돌하는 내용은 없는지 확인이 필요하다.\n",
    "# 이때 사용할 수 있는 방법은 1) 규칙 기반, 2) 분류 또는 회귀 모델, 3) 임베딩 유사도 기반, 4) LLM 활용"
   ]
  },
  {
   "cell_type": "code",
   "execution_count": null,
   "metadata": {},
   "outputs": [],
   "source": [
    "import os\n",
    "from nemoguardrails import LLMRails, RailsConfig\n",
    "import nest_asyncio\n",
    "\n",
    "nest_asyncio.apply()\n",
    "\n",
    "os.environ[\"OPENAI_API_KEY\"] = \"KEY\""
   ]
  },
  {
   "cell_type": "code",
   "execution_count": 13,
   "metadata": {},
   "outputs": [],
   "source": [
    "colang_content = \"\"\"\n",
    "define user greeting\n",
    "  \"안녕!\"\n",
    "  \"How are you?\"\n",
    "  \"What's up?\"\n",
    "\n",
    "define bot express greeting\n",
    "  \"안녕하세요!\"\n",
    "\n",
    "define bot offer to help\n",
    "  \"어떤 것을 도와드릴까요?\"\n",
    "\n",
    "define flow\n",
    "  user  greeting\n",
    "  bot express greeting\n",
    "  bot offer to help\n",
    "\"\"\" # 사용자의 요청을 정의하고 정의한 사용자 요청과 유사한 요청이 들어왔을 때 어떤 응답을 생성할지 미리 정의할 수 있다."
   ]
  },
  {
   "cell_type": "code",
   "execution_count": 14,
   "metadata": {},
   "outputs": [],
   "source": [
    "yaml_content = \"\"\"\n",
    "models:\n",
    "  - type: main\n",
    "    engine: openai\n",
    "    model: gpt-3.5-turbo\n",
    "\n",
    "  - type: embeddings\n",
    "    engine: openai\n",
    "    model: text-embedding-ada-002\n",
    "\"\"\""
   ]
  },
  {
   "cell_type": "code",
   "execution_count": 15,
   "metadata": {},
   "outputs": [],
   "source": [
    "config = RailsConfig.from_content(\n",
    "    colang_content=colang_content,\n",
    "    yaml_content=yaml_content\n",
    ")"
   ]
  },
  {
   "cell_type": "code",
   "execution_count": 16,
   "metadata": {},
   "outputs": [],
   "source": [
    "rails = LLMRails(config=config)"
   ]
  },
  {
   "cell_type": "code",
   "execution_count": 17,
   "metadata": {},
   "outputs": [
    {
     "data": {
      "text/plain": [
       "{'role': 'assistant', 'content': '안녕하세요!'}"
      ]
     },
     "execution_count": 17,
     "metadata": {},
     "output_type": "execute_result"
    }
   ],
   "source": [
    "rails.generate(messages=[{\"role\": \"user\", \"content\": \"안녕하세요!\"}])"
   ]
  },
  {
   "cell_type": "code",
   "execution_count": 18,
   "metadata": {},
   "outputs": [],
   "source": [
    "# 특정 분야(예: 요리)에 대한 질문이나 요청에 답변하지 않도록 하고 싶은 경우\n",
    "colang_content_cooking = \"\"\"\n",
    "define user ask about cooking\n",
    "  \"How can I cook pasta?\"\n",
    "  \"How much do I have to boil pasta?\"\n",
    "  \"파스타 만드는 법을 알려줘.\"\n",
    "  \"요리하는 방법을 알려줘.\"\n",
    "\n",
    "define bot refuse to respond about cooking\n",
    "  \"죄송합니다. 저는 요리에 대한 정보는 답변할 수 없습니다. 다른 질문을 해주세요.\"\n",
    "\n",
    "define flow cooking\n",
    "  user ask about cooking\n",
    "  bot refuse to respond about cooking\n",
    "\"\"\""
   ]
  },
  {
   "cell_type": "code",
   "execution_count": 19,
   "metadata": {},
   "outputs": [],
   "source": [
    "config = RailsConfig.from_content(\n",
    "    colang_content=colang_content_cooking,\n",
    "    yaml_content=yaml_content\n",
    ")"
   ]
  },
  {
   "cell_type": "code",
   "execution_count": 20,
   "metadata": {},
   "outputs": [],
   "source": [
    "rails_cooking = LLMRails(config=config)"
   ]
  },
  {
   "cell_type": "code",
   "execution_count": 21,
   "metadata": {},
   "outputs": [
    {
     "data": {
      "text/plain": [
       "{'role': 'assistant',\n",
       " 'content': '죄송합니다. 저는 요리에 대한 정보는 답변할 수 없습니다. 다른 질문을 해주세요.'}"
      ]
     },
     "execution_count": 21,
     "metadata": {},
     "output_type": "execute_result"
    }
   ],
   "source": [
    "rails_cooking.generate(messages=[{\"role\": \"user\", \"content\":\"사과 파이는 어떻게 만들어?\"}])"
   ]
  },
  {
   "cell_type": "code",
   "execution_count": null,
   "metadata": {},
   "outputs": [],
   "source": []
  }
 ],
 "metadata": {
  "kernelspec": {
   "display_name": "LLM",
   "language": "python",
   "name": "python3"
  },
  "language_info": {
   "name": "python",
   "version": "3.9.20"
  }
 },
 "nbformat": 4,
 "nbformat_minor": 2
}
